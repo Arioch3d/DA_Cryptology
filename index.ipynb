{
 "cells": [
  {
   "cell_type": "code",
   "execution_count": 2,
   "metadata": {},
   "outputs": [
    {
     "name": "stdout",
     "output_type": "stream",
     "text": [
      "l not found in list\n"
     ]
    }
   ],
   "source": [
    "mylist = ['A','B','C','D','E','F','G','H','I','J','K','L','M','N','O','P','Q','R','S','T','U','V','W','X','Y','Z']\n",
    "user_input = input(\"Enter letter to search for: \")\n",
    "if user_input in mylist:\n",
    "    print(f\"{user_input} found in list.\")\n",
    "else:\n",
    "    print(f\"{user_input} not found in list\")"
   ]
  },
  {
   "cell_type": "code",
   "execution_count": null,
   "metadata": {},
   "outputs": [
    {
     "ename": "AttributeError",
     "evalue": "'range' object has no attribute 'upper'",
     "output_type": "error",
     "traceback": [
      "\u001b[31m---------------------------------------------------------------------------\u001b[39m",
      "\u001b[31mAttributeError\u001b[39m                            Traceback (most recent call last)",
      "\u001b[36mCell\u001b[39m\u001b[36m \u001b[39m\u001b[32mIn[31]\u001b[39m\u001b[32m, line 1\u001b[39m\n\u001b[32m----> \u001b[39m\u001b[32m1\u001b[39m English_Alphabet_Map = {\u001b[38;5;28mchr\u001b[39m(i):i-\u001b[32m97\u001b[39m \u001b[38;5;28;01mfor\u001b[39;00m i \u001b[38;5;129;01min\u001b[39;00m \u001b[38;5;28;43mrange\u001b[39;49m\u001b[43m(\u001b[49m\u001b[32;43m97\u001b[39;49m\u001b[43m,\u001b[49m\u001b[32;43m97\u001b[39;49m\u001b[43m+\u001b[49m\u001b[32;43m26\u001b[39;49m\u001b[43m)\u001b[49m\u001b[43m.\u001b[49m\u001b[43mupper\u001b[49m}\n\u001b[32m      2\u001b[39m \u001b[38;5;66;03m#key = [5, 18]\u001b[39;00m\n\u001b[32m      3\u001b[39m \u001b[38;5;66;03m#a,b = key\u001b[39;00m\n\u001b[32m      4\u001b[39m \u001b[38;5;66;03m#Cypher_Text = [a*i+b for i in English_Alphabet_Map]\u001b[39;00m\n\u001b[32m      5\u001b[39m \u001b[38;5;66;03m#Cypher_Text\u001b[39;00m\n\u001b[32m      6\u001b[39m \u001b[38;5;28mprint\u001b[39m(English_Alphabet_Map)\n",
      "\u001b[31mAttributeError\u001b[39m: 'range' object has no attribute 'upper'"
     ]
    }
   ],
   "source": [
    "English_Alphabet_Map = {chr(i):i-97 for i in range(97,97+26)}\n",
    "#key = [5, 18]\n",
    "#a,b = key\n",
    "#Cypher_Text = [a*i+b for i in English_Alphabet_Map]\n",
    "#Cypher_Text\n",
    "print(English_Alphabet_Map)"
   ]
  },
  {
   "cell_type": "code",
   "execution_count": 53,
   "metadata": {},
   "outputs": [
    {
     "name": "stdout",
     "output_type": "stream",
     "text": [
      "2 23 <built-in method lower of str object at 0x0000015712322430>\n"
     ]
    }
   ],
   "source": [
    "my_dict = {'a': 0, 'b': 1, 'c': 2, 'd': 3, 'e': 4, 'f': 5, 'g': 6, 'h': 7, 'i': 8, 'j': 9, 'k': 10, 'l': 11, 'm': 12, 'n': 13, 'o': 14, 'p': 15, 'q': 16, 'r': 17, 's': 18, 't': 19, 'u': 20, 'v': 21, 'w': 22, 'x': 23, 'y': 24, 'z': 25}\n",
    "my_dict_reverse = {0: 'a', 1: 'b', 2: 'c', 3: 'd', 4: 'e', 5: 'f', 6: 'g', 7: 'h', 8: 'i', 9: 'j', 10: 'k', 11: 'l', 12: 'm', 13: 'n', 14: 'o', 15: 'p', 16: 'q', 17: 'r', 18: 's', 19: 't', 20: 'u', 21: 'v', 22: 'w', 23: 'x', 24: 'y', 25: 'z'}\n",
    "user_input_multiplicative = input(\"Enter value to multiply the Cypher: \")\n",
    "user_input_additive = input(\"Enter value to add to Cypher: \")\n",
    "user_input_text = input(\"Enter String to Decrypt\" )\n",
    "user_input_text = user_input_text.lower\n",
    "\n",
    "print(user_input_multiplicative, user_input_additive, user_input_text)\n",
    "#user_input_text.lower()\n",
    "def affine_decrypt(my_dict, user_input_additive, user_input_multiplicative):\n",
    "    result = ''\n",
    "    return result"
   ]
  }
 ],
 "metadata": {
  "kernelspec": {
   "display_name": "Python 3",
   "language": "python",
   "name": "python3"
  },
  "language_info": {
   "codemirror_mode": {
    "name": "ipython",
    "version": 3
   },
   "file_extension": ".py",
   "mimetype": "text/x-python",
   "name": "python",
   "nbconvert_exporter": "python",
   "pygments_lexer": "ipython3",
   "version": "3.13.1"
  }
 },
 "nbformat": 4,
 "nbformat_minor": 2
}

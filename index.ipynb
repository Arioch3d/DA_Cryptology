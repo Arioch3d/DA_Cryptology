{
 "cells": [
  {
   "cell_type": "code",
   "execution_count": 2,
   "metadata": {},
   "outputs": [
    {
     "name": "stdout",
     "output_type": "stream",
     "text": [
      "l not found in list\n"
     ]
    }
   ],
   "source": [
    "mylist = ['A','B','C','D','E','F','G','H','I','J','K','L','M','N','O','P','Q','R','S','T','U','V','W','X','Y','Z']\n",
    "user_input = input(\"Enter letter to search for: \")\n",
    "if user_input in mylist:\n",
    "    print(f\"{user_input} found in list.\")\n",
    "else:\n",
    "    print(f\"{user_input} not found in list\")"
   ]
  },
  {
   "cell_type": "code",
   "execution_count": 38,
   "metadata": {},
   "outputs": [
    {
     "name": "stdout",
     "output_type": "stream",
     "text": [
      "{'a': 0, 'b': 1, 'c': 2, 'd': 3, 'e': 4, 'f': 5, 'g': 6, 'h': 7, 'i': 8, 'j': 9, 'k': 10, 'l': 11, 'm': 12, 'n': 13, 'o': 14, 'p': 15, 'q': 16, 'r': 17, 's': 18, 't': 19, 'u': 20, 'v': 21, 'w': 22, 'x': 23, 'y': 24, 'z': 25}\n",
      "{0: 'a', 1: 'b', 2: 'c', 3: 'd', 4: 'e', 5: 'f', 6: 'g', 7: 'h', 8: 'i', 9: 'j', 10: 'k', 11: 'l', 12: 'm', 13: 'n', 14: 'o', 15: 'p', 16: 'q', 17: 'r', 18: 's', 19: 't', 20: 'u', 21: 'v', 22: 'w', 23: 'x', 24: 'y', 25: 'z'}\n"
     ]
    }
   ],
   "source": [
    "English_Alphabet_Map = {chr(i):i-97 for i in range(97,97+26)}\n",
    "English_Alphabet_Map_Reverse = {i-97:chr(i) for i in range(97,97+26)}\n",
    "#key = [5, 18]\n",
    "#a,b = key\n",
    "#Cypher_Text = [a*i+b for i in English_Alphabet_Map]\n",
    "#Cypher_Text\n",
    "print(English_Alphabet_Map)\n",
    "print(English_Alphabet_Map_Reverse)"
   ]
  },
  {
   "cell_type": "code",
   "execution_count": 28,
   "metadata": {},
   "outputs": [
    {
     "ename": "ValueError",
     "evalue": "base is not invertible for the given modulus",
     "output_type": "error",
     "traceback": [
      "\u001b[31m---------------------------------------------------------------------------\u001b[39m",
      "\u001b[31mValueError\u001b[39m                                Traceback (most recent call last)",
      "\u001b[36mCell\u001b[39m\u001b[36m \u001b[39m\u001b[32mIn[28]\u001b[39m\u001b[32m, line 37\u001b[39m\n\u001b[32m     33\u001b[39m     \u001b[38;5;28;01mreturn\u001b[39;00m plaintext, user_input_additive_inverse\n\u001b[32m     34\u001b[39m     \u001b[38;5;28mprint\u001b[39m(text, user_input_additive, user_input_multiplicative)\n\u001b[32m---> \u001b[39m\u001b[32m37\u001b[39m decrypted_input = \u001b[43maffine_decrypt\u001b[49m\u001b[43m(\u001b[49m\u001b[43muser_input_text\u001b[49m\u001b[43m,\u001b[49m\u001b[43m \u001b[49m\u001b[43muser_input_additive\u001b[49m\u001b[43m,\u001b[49m\u001b[43m \u001b[49m\u001b[43muser_input_multiplicative\u001b[49m\u001b[43m)\u001b[49m\n\u001b[32m     38\u001b[39m \u001b[38;5;66;03m#affine_decrypt(my_dict_reverse, user_input_additive, user_input_multiplicative)\u001b[39;00m\n\u001b[32m     39\u001b[39m \u001b[38;5;66;03m#print ({affine_decrypt})\u001b[39;00m\n\u001b[32m     40\u001b[39m \u001b[38;5;28mprint\u001b[39m(\u001b[33m\"\u001b[39m\u001b[33mEntered String to Decrypt: \u001b[39m\u001b[33m\"\u001b[39m, user_input_text)\n",
      "\u001b[36mCell\u001b[39m\u001b[36m \u001b[39m\u001b[32mIn[28]\u001b[39m\u001b[32m, line 20\u001b[39m, in \u001b[36maffine_decrypt\u001b[39m\u001b[34m(my_dict_reverse, user_input_additive, user_input_multiplicative)\u001b[39m\n\u001b[32m     17\u001b[39m plaintext = \u001b[33m\"\u001b[39m\u001b[33m\"\u001b[39m\n\u001b[32m     19\u001b[39m text = user_input_text\n\u001b[32m---> \u001b[39m\u001b[32m20\u001b[39m user_input_additive_inverse = \u001b[38;5;28;43mpow\u001b[39;49m\u001b[43m(\u001b[49m\u001b[43muser_input_additive\u001b[49m\u001b[43m,\u001b[49m\u001b[43m \u001b[49m\u001b[43m-\u001b[49m\u001b[32;43m1\u001b[39;49m\u001b[43m,\u001b[49m\u001b[43m \u001b[49m\u001b[32;43m26\u001b[39;49m\u001b[43m)\u001b[49m\n\u001b[32m     21\u001b[39m \u001b[38;5;28;01mfor\u001b[39;00m char \u001b[38;5;129;01min\u001b[39;00m text:\n\u001b[32m     22\u001b[39m     \u001b[38;5;28;01mif\u001b[39;00m char.isalpha:\n",
      "\u001b[31mValueError\u001b[39m: base is not invertible for the given modulus"
     ]
    }
   ],
   "source": [
    "my_dict = {'a': 0, 'b': 1, 'c': 2, 'd': 3, 'e': 4, 'f': 5, 'g': 6, 'h': 7, 'i': 8, 'j': 9, 'k': 10, 'l': 11, 'm': 12, 'n': 13, 'o': 14, 'p': 15, 'q': 16, 'r': 17, 's': 18, 't': 19, 'u': 20, 'v': 21, 'w': 22, 'x': 23, 'y': 24, 'z': 25}\n",
    "my_dict_reverse = {0: 'a', 1: 'b', 2: 'c', 3: 'd', 4: 'e', 5: 'f', 6: 'g', 7: 'h', 8: 'i', 9: 'j', 10: 'k', 11: 'l', 12: 'm', 13: 'n', 14: 'o', 15: 'p', 16: 'q', 17: 'r', 18: 's', 19: 't', 20: 'u', 21: 'v', 22: 'w', 23: 'x', 24: 'y', 25: 'z'}\n",
    "#user_input_multiplicative = input(\"Enter value to multiply the Cypher: \")\n",
    "#user_input_additive = input(\"Enter value to Shiftto Cypher: \")\n",
    "#user_input_text = (input(\"Enter String to Decrypt\" )).lower()\n",
    "\n",
    "#print(user_input_multiplicative, user_input_additive, user_input_text)\n",
    "#user_input_text.lower()\n",
    "\n",
    "user_input_text = (input(\"Enter String to Decrypt\" )).lower()\n",
    "user_input_multiplicative = input(\"Enter value to multiply the Cypher: \")\n",
    "user_input_additive = input(\"Enter value to Shift to Cypher: \")\n",
    "user_input_additive = int(user_input_additive)\n",
    "user_input_multiplicative = int(user_input_multiplicative)\n",
    "\n",
    "def affine_decrypt(my_dict_reverse, user_input_additive, user_input_multiplicative):\n",
    "    plaintext = \"\"\n",
    "    \n",
    "    text = user_input_text\n",
    "    user_input_additive_inverse = pow(user_input_additive, -1, 26)\n",
    "    for char in text:\n",
    "        if char.isalpha:\n",
    "                order = ord(char)\n",
    "            #if char.isalpha():\n",
    "                order = order - 97\n",
    "                order = ((order - user_input_multiplicative) * user_input_additive_inverse) % 26\n",
    "                order = order + 97\n",
    "                new_char = chr(order)\n",
    "                plaintext = plaintext + new_char\n",
    "        else:\n",
    "            plaintext = plaintext + new_char\n",
    "\n",
    "    return plaintext, user_input_additive_inverse\n",
    "    print(text, user_input_additive, user_input_multiplicative)\n",
    "\n",
    "\n",
    "decrypted_input = affine_decrypt(user_input_text, user_input_additive, user_input_multiplicative)\n",
    "#affine_decrypt(my_dict_reverse, user_input_additive, user_input_multiplicative)\n",
    "#print ({affine_decrypt})\n",
    "print(\"Entered String to Decrypt: \", user_input_text)\n",
    "print(\"Entered Shift Key: \", user_input_additive)\n",
    "print(\"Entered Multiplicative Key: \", user_input_multiplicative)\n",
    "print(\"Decrypted Text: \", decrypted_input)"
   ]
  },
  {
   "cell_type": "code",
   "execution_count": 35,
   "metadata": {},
   "outputs": [
    {
     "name": "stdout",
     "output_type": "stream",
     "text": [
      "['a', 'b', 'x', 'h', 'e', 'f', 'v', 'h', 'h', 'e', 'd', 'f', 'j']\n",
      "['n', 'i', 'c', 'e', 't', 'o', 'm', 'e', 'e', 't', 'y', 'o', 'u']\n"
     ]
    },
    {
     "data": {
      "text/plain": [
       "'abxhefvhhedfj'"
      ]
     },
     "execution_count": 35,
     "metadata": {},
     "output_type": "execute_result"
    }
   ],
   "source": [
    "#PlainText = user_input_text = (input(\"Enter String to Decrypt\" )).lower()\n",
    "PlainText = \"nicetomeetyou\"\n",
    "EnglishAlphabetMap = {chr(i):i-97 for i in range(97, 97+26)}\n",
    "EnglishAlphabetMap_Reverse = {i-97:chr(i) for i in range(97, 97+26)}\n",
    "#key == [5, 13]\n",
    "user_input_multiplicative = input(\"Enter value to multiply the Cypher: \")\n",
    "user_input_additive = input(\"Enter value to Shift to Cypher: \")\n",
    "\n",
    "user_input_additive = int(user_input_additive)\n",
    "user_input_multiplicative = int(user_input_multiplicative)\n",
    "PlainText_Numbers = [EnglishAlphabetMap[i] for i in PlainText]\n",
    "a = user_input_multiplicative\n",
    "b = user_input_additive\n",
    "#a, b = key\n",
    "CipherText_Numbers = [(a*i+b) % 26 for i in PlainText_Numbers]\n",
    "#print([i for i in PT])\n",
    "CipherText = [EnglishAlphabetMap_Reverse[i] for i in CipherText_Numbers]\n",
    "''.join(CipherText)\n",
    "#Decrypt\n",
    "CipherText_Numbers = [EnglishAlphabetMap[i] for i in CipherText]\n",
    "a_inverse = pow(a, -1, 26)\n",
    "PlainText_Numbers = [a_inverse * (i-b) % 26 for i in CipherText_Numbers]\n",
    "PlainText = [EnglishAlphabetMap_Reverse[i] for i in PlainText_Numbers]\n",
    "#print(EnglishAlphabetMap)\n",
    "#print(EnglishAlphabetMap_Reverse)\n",
    "#print(PlainText)\n",
    "#print(PlainText_Numbers)\n",
    "#print(CipherText_Numbers)\n",
    "print(CipherText)\n",
    "#print(pow)\n",
    "#print(PlainText_Numbers)\n",
    "print(PlainText)\n",
    "''.join(CipherText)"
   ]
  },
  {
   "cell_type": "code",
   "execution_count": 51,
   "metadata": {},
   "outputs": [
    {
     "name": "stdout",
     "output_type": "stream",
     "text": [
      "Ciphertext: Whqqf Tfuqc\n",
      "Decrypted text: Hello World\n"
     ]
    }
   ],
   "source": [
    "def affine_cipher(text, a, b, encrypt=True):\n",
    "    result = ''\n",
    "    for char in text:\n",
    "        if char.isalpha():\n",
    "            start = ord('a') if char.islower() else ord('A')\n",
    "            char_index = ord(char) - start\n",
    "            if encrypt:\n",
    "                encrypted_index = (a * char_index + b) % 26\n",
    "            else:\n",
    "              a_inv = 0\n",
    "              for i in range(26):\n",
    "                if (a * i) % 26 == 1:\n",
    "                  a_inv = i\n",
    "                  break\n",
    "              encrypted_index = (a_inv * (char_index - b)) % 26\n",
    "            encrypted_char = chr(encrypted_index + start)\n",
    "            result += encrypted_char\n",
    "        elif char.isspace():\n",
    "          result += char\n",
    "        else:\n",
    "            result += char\n",
    "    return result\n",
    "\n",
    "def decrypt_cipher(text, a, b, encrypt=False):\n",
    "    result = ''\n",
    "    for char in text:\n",
    "        if char.isalpha():\n",
    "            start = ord('a') if char.islower() else ord('A')\n",
    "            char_index = ord(char) - start\n",
    "            if encrypt:\n",
    "                encrypted_index = (a * char_index + b) % 26\n",
    "            else:\n",
    "              a_inv = 0\n",
    "              for i in range(26):\n",
    "                if (a * i) % 26 == 1:\n",
    "                  a_inv = i\n",
    "                  break\n",
    "              encrypted_index = (a_inv * (char_index - b)) % 26\n",
    "            encrypted_char = chr(encrypted_index + start)\n",
    "            result += encrypted_char\n",
    "        elif char.isspace():\n",
    "          result += char\n",
    "        else:\n",
    "            result += char\n",
    "    return result\n",
    "\n",
    "# Example usage\n",
    "def user_input_loop():\n",
    "   plaintext = user_input_text = (input(\"Please Enter a message to Decrypt: \" ))\n",
    "   plaintext = \"Hello World\"\n",
    "   user_input_multiplicative = input(\"Please Enter Multiplicative Key Value (1-26): \")\n",
    "   user_input_additive = input(\"Please Enter Additive Key Value (1-26): \")\n",
    "   user_input_additive = int(user_input_additive)\n",
    "   user_input_multiplicative = int(user_input_multiplicative)\n",
    "   key_a = user_input_multiplicative\n",
    "   key_b = user_input_additive\n",
    "\n",
    "# Encryption\n",
    "ciphertext = affine_cipher(plaintext, key_a, key_b)\n",
    "print(f\"Ciphertext: {ciphertext}\")\n",
    "\n",
    "# Decryption\n",
    "decrypted_text = decrypt_cipher(ciphertext, key_a, key_b, encrypt=False)\n",
    "#print(f\"Encrypted text: {encrypt_cipher}\")\n",
    "print(f\"Decrypted text: {decrypted_text}\")\n",
    "\n",
    "while True: \n",
    "   user_input = input(\"Would you like to run again? Yes or No: \")\n",
    "   if user_input in [\"yes\", \"no\"]:\n",
    "      break\n",
    "   else:\n",
    "      print(\"Please select Yes or No\")\n",
    "if user_input == (\"yes\"):\n",
    "    user_input_loop()\n",
    "else:\n",
    "    exit"
   ]
  },
  {
   "cell_type": "code",
   "execution_count": 57,
   "metadata": {},
   "outputs": [
    {
     "name": "stdout",
     "output_type": "stream",
     "text": [
      "Entered plaintext:  Affine Cipher\n",
      "Entered keys are: \n",
      " Multiplicative Key =  5 \n",
      " Additive Key =  13\n",
      "Ciphertext :  Nmmbah Xbkwhu\n",
      "Inverse value of user_multiplicative:  21\n",
      "Decrypted text :  \n"
     ]
    }
   ],
   "source": [
    "def decrypt_cipher(ciphertext, user_multiplicative, user_additive):\n",
    "    #ciphertext = \"\"\n",
    "    text = ciphertext\n",
    "    user_multiplicative_inv = pow(user_multiplicative, -1, 26)\n",
    "    plaintext = \"\"\n",
    "    for char in text:\n",
    "        if char in text:\n",
    "            if char.isnumeric():\n",
    "                print(\"Please enter a letter or word!\")\n",
    "                if char.isalpha():\n",
    "                    order = ord(char)\n",
    "                    if char.islower():\n",
    "                        start = ord('a') if char.islower() else ord('A')\n",
    "                        char_index = ord(char) - start \n",
    "                        order = order - 97\n",
    "                        order = ((order - user_additive) * user_multiplicative_inv) % 26\n",
    "                        order = order + 97\n",
    "                        new_char = chr(order)\n",
    "                        plaintext = plaintext + new_char\n",
    "                    if char.isupper():\n",
    "                        start = ord('a') if char.islower() else ord('A')\n",
    "                        char_index = ord(char) - start \n",
    "                        order = order - 65\n",
    "                        order = ((order - user_additive) * user_multiplicative_inv) % 26\n",
    "                        order = order + 65\n",
    "                        new_char = chr(order)\n",
    "                        plaintext = plaintext + new_char\n",
    "        elif char.isspace():\n",
    "            result += char\n",
    "        else:\n",
    "            plaintext = plaintext + char\n",
    "    return plaintext, user_multiplicative_inv\n",
    "\n",
    "plaintext = input(\"Enter the plaintext: \")\n",
    "user_multiplicative = int(input(\"Enter Multiplicative Key: \"))\n",
    "user_additive = int(input(\"Enter Additive Key: \"))\n",
    "\n",
    "decrypted_text, inv = decrypt_cipher(ciphertext, user_multiplicative, user_additive)\n",
    "\n",
    "print(\"Entered plaintext: \", plaintext)\n",
    "print(\"Entered keys are: \\n Multiplicative Key = \", user_multiplicative, \"\\n Additive Key = \", user_additive)\n",
    "print(\"Ciphertext : \", ciphertext)\n",
    "print(\"Inverse value of user_multiplicative: \", inv)\n",
    "print(\"Decrypted text : \", decrypted_text)"
   ]
  },
  {
   "cell_type": "code",
   "execution_count": 63,
   "metadata": {},
   "outputs": [
    {
     "name": "stdout",
     "output_type": "stream",
     "text": [
      "Entered plaintext:  Hello World\n",
      "Entered keys are: \n",
      " Multiplicative Key =  5 \n",
      " Additive Key =  13\n",
      "Ciphertext :  Whqqf Tfuqc\n"
     ]
    }
   ],
   "source": [
    "def encrypt_cipher(plaintext, key1, key2):\n",
    "    text = plaintext\n",
    "    ciphertext = \"\"\n",
    "    for char in text:\n",
    "        if char.isalpha():\n",
    "            order = ord(char)\n",
    "            if char.islower():\n",
    "                order = order - 97\n",
    "                order = ((order * key1) + key2) % 26\n",
    "                order = order + 97\n",
    "                new_char = chr(order)\n",
    "                ciphertext = ciphertext + new_char\n",
    "            if char.isupper():\n",
    "                order = order - 65\n",
    "                order = ((order * key1) + key2) % 26\n",
    "                order = order + 65\n",
    "                new_char = chr(order)\n",
    "                ciphertext = ciphertext + new_char\n",
    "        else:\n",
    "            ciphertext = ciphertext + char\n",
    "    return ciphertext\n",
    "\n",
    "\n",
    "plaintext = input(\"Enter the plaintext: \")\n",
    "user_multiplicative = int(input(\"Enter Multiplicative Key: \"))\n",
    "user_additive = int(input(\"Enter Additive Key: \"))\n",
    "\n",
    "ciphertext = encrypt_cipher(plaintext, user_multiplicative, user_additive)\n",
    "\n",
    "print(\"Entered plaintext: \", plaintext)\n",
    "print(\"Entered keys are: \\n Multiplicative Key = \", user_multiplicative, \"\\n Additive Key = \", user_additive)\n",
    "print(\"Ciphertext : \", ciphertext)"
   ]
  },
  {
   "cell_type": "code",
   "execution_count": 64,
   "metadata": {},
   "outputs": [
    {
     "name": "stdout",
     "output_type": "stream",
     "text": [
      "Entered plaintext:  Whqqf Tfuqc\n",
      "Entered keys are: \n",
      " Multiplicative Key =  5 \n",
      " Additive Key =  13\n",
      "Ciphertext :  Whqqf Tfuqc\n",
      "Decrypted text:  Emjpx\n"
     ]
    }
   ],
   "source": [
    "def decrypt_cipher(plaintext, key1, key2):\n",
    "    text = plaintext\n",
    "    ciphertext = \"\"\n",
    "    decrypted_text = \"\"\n",
    "    for char in text:\n",
    "        if char.isalpha():\n",
    "            order = ord(char)\n",
    "            if char.islower():\n",
    "                order = order - 97\n",
    "                order = ((order * key1) + key2) % 26\n",
    "                order = order + 97\n",
    "                new_char = chr(order)\n",
    "                plaintext = plaintext + new_char\n",
    "            if char.isupper():\n",
    "                order = order - 65\n",
    "                order = ((order * key1) + key2) % 26\n",
    "                order = order + 65\n",
    "                new_char = chr(order)\n",
    "                plaintext = ciphertext + new_char\n",
    "        else:\n",
    "            plaintext = ciphertext + char\n",
    "    return plaintext\n",
    "\n",
    "\n",
    "plaintext = input(\"Enter the plaintext: \")\n",
    "user_multiplicative = int(input(\"Enter Multiplicative Key: \"))\n",
    "user_additive = int(input(\"Enter Additive Key: \"))\n",
    "\n",
    "decrypted_text = decrypt_cipher(plaintext, user_multiplicative, user_additive)\n",
    "\n",
    "print(\"Entered plaintext: \", plaintext)\n",
    "print(\"Entered keys are: \\n Multiplicative Key = \", user_multiplicative, \"\\n Additive Key = \", user_additive)\n",
    "print(\"Ciphertext : \", ciphertext)\n",
    "print(\"Decrypted text: \", decrypted_text)"
   ]
  },
  {
   "cell_type": "code",
   "execution_count": 62,
   "metadata": {},
   "outputs": [],
   "source": [
    "def affine_decrypt(encrypted_text, a, b):\n",
    "    decrypted = \"\"\n",
    "    # Find modular inverse of 'a' (mod 26)\n",
    "    def mod_inverse(x, m):\n",
    "        for i in range(1, m):\n",
    "            if (x * i) % m == 1:\n",
    "                return i\n",
    "        return None\n",
    "    a_inverse = mod_inverse(a, 26)\n",
    "    if a_inverse is None:\n",
    "        raise ValueError(\"Inverse of 'a' mod 26 does not exist.\")\n",
    "    for char in encrypted_text:\n",
    "        if char.isalpha():\n",
    "            char = char.lower()\n",
    "            char_num = ord(char) - ord('a')\n",
    "            # Apply the decryption formula: a_inv * (x - b) % 26\n",
    "            decrypted_char = chr((a_inverse * (char_num - b) % 26) + ord('a'))\n",
    "            decrypted += decrypted_char\n",
    "        else:\n",
    "            decrypted += char\n",
    "    return decrypted"
   ]
  },
  {
   "cell_type": "code",
   "execution_count": 68,
   "metadata": {},
   "outputs": [
    {
     "name": "stdout",
     "output_type": "stream",
     "text": [
      "Plaintext: HELLO WORLD\n",
      "Encrypted: WHQQF TFUQC\n",
      "Decrypted: HELLO WORLD\n"
     ]
    }
   ],
   "source": [
    "import string\n",
    "# Define the alphabet\n",
    "ALPHABET = string.ascii_uppercase\n",
    "def letter_to_index(letter):\n",
    "    return ALPHABET.index(letter)\n",
    "def index_to_letter(index):\n",
    "    return ALPHABET[index]\n",
    "def mod_inverse(a, m):\n",
    "    for i in range(1, m):\n",
    "        if (a * i) % m == 1:\n",
    "            return i\n",
    "    return None\n",
    "def encrypt(plaintext, a, b):\n",
    "    ciphertext = \"\"\n",
    "    for letter in plaintext:\n",
    "        if letter in ALPHABET:\n",
    "            x = letter_to_index(letter)\n",
    "            encrypted_index = (a * x + b) % len(ALPHABET)\n",
    "            ciphertext += index_to_letter(encrypted_index)\n",
    "        else:\n",
    "            ciphertext += letter\n",
    "    return ciphertext\n",
    "def decrypt(ciphertext, a, b):\n",
    "    plaintext = \"\"\n",
    "    a_inv = mod_inverse(a, len(ALPHABET))\n",
    "    if a_inv is None:\n",
    "        return \"Error: 'a' is not coprime to 26\"\n",
    "    for letter in ciphertext:\n",
    "        if letter in ALPHABET:\n",
    "            y = letter_to_index(letter)\n",
    "            decrypted_index = (a_inv * (y - b)) % len(ALPHABET)\n",
    "            plaintext += index_to_letter(decrypted_index)\n",
    "        else:\n",
    "            plaintext += letter\n",
    "    return plaintext\n",
    "# Example usage\n",
    "plaintext = \"HELLO WORLD\"\n",
    "a, b = 5, 13  # Key values\n",
    "encrypted = encrypt(plaintext, a, b)\n",
    "decrypted = decrypt(encrypted, a, b)\n",
    "print(f\"Plaintext: {plaintext}\")\n",
    "print(f\"Encrypted: {encrypted}\")\n",
    "print(f\"Decrypted: {decrypted}\")"
   ]
  },
  {
   "cell_type": "code",
   "execution_count": 1,
   "metadata": {},
   "outputs": [
    {
     "name": "stdout",
     "output_type": "stream",
     "text": [
      "Welcome to the Affine Cypher!\n"
     ]
    },
    {
     "ename": "ValueError",
     "evalue": "invalid literal for int() with base 10: ''",
     "output_type": "error",
     "traceback": [
      "\u001b[31m---------------------------------------------------------------------------\u001b[39m",
      "\u001b[31mValueError\u001b[39m                                Traceback (most recent call last)",
      "\u001b[36mCell\u001b[39m\u001b[36m \u001b[39m\u001b[32mIn[1]\u001b[39m\u001b[32m, line 48\u001b[39m\n\u001b[32m     46\u001b[39m crypt_again = \u001b[38;5;28;01mTrue\u001b[39;00m\n\u001b[32m     47\u001b[39m \u001b[38;5;28;01mwhile\u001b[39;00m \u001b[38;5;28;01mTrue\u001b[39;00m:\n\u001b[32m---> \u001b[39m\u001b[32m48\u001b[39m     crypt_choice = \u001b[38;5;28;43mint\u001b[39;49m\u001b[43m(\u001b[49m\u001b[38;5;28;43minput\u001b[39;49m\u001b[43m(\u001b[49m\u001b[33;43m\"\u001b[39;49m\u001b[33;43mWould you like to (1)encrypt or (2)decrypt a message?\u001b[39;49m\u001b[33;43m\"\u001b[39;49m\u001b[43m)\u001b[49m\u001b[43m)\u001b[49m\n\u001b[32m     49\u001b[39m     \u001b[38;5;28;01mif\u001b[39;00m crypt_choice == \u001b[32m1\u001b[39m:\n\u001b[32m     50\u001b[39m         plaintext = \u001b[38;5;28mstr\u001b[39m(\u001b[38;5;28minput\u001b[39m(\u001b[33m\"\u001b[39m\u001b[33mPlease type the message you would like encrypted:\u001b[39m\u001b[33m\"\u001b[39m)).upper()\n",
      "\u001b[31mValueError\u001b[39m: invalid literal for int() with base 10: ''"
     ]
    }
   ],
   "source": [
    "import string\n",
    "\n",
    "# Define the alphabet\n",
    "ALPHABET = string.ascii_uppercase\n",
    "\n",
    "def letter_to_index(letter):\n",
    "    return ALPHABET.index(letter)\n",
    "\n",
    "def index_to_letter(index):\n",
    "    return ALPHABET[index]\n",
    "\n",
    "def mod_inverse(a, m):\n",
    "    for i in range(1, m):\n",
    "        if (a * i) % m == 1:\n",
    "            return i\n",
    "    return None\n",
    "\n",
    "def encrypt(plaintext, a, b):\n",
    "    ciphertext = \"\"\n",
    "    for letter in plaintext:\n",
    "        if letter in ALPHABET:\n",
    "            x = letter_to_index(letter)\n",
    "            encrypted_index = (a * x + b) % len(ALPHABET)\n",
    "            ciphertext += index_to_letter(encrypted_index)\n",
    "        else:\n",
    "            ciphertext += letter\n",
    "    return ciphertext\n",
    "\n",
    "def decrypt(ciphertext, a, b):\n",
    "    plaintext = \"\"\n",
    "    a_inv = mod_inverse(a, len(ALPHABET))\n",
    "    if a_inv is None:\n",
    "        return \"Error: 'a' is not coprime to 26\"\n",
    "    for letter in ciphertext:\n",
    "        if letter in ALPHABET:\n",
    "            y = letter_to_index(letter)\n",
    "            decrypted_index = (a_inv * (y - b)) % len(ALPHABET)\n",
    "            plaintext += index_to_letter(decrypted_index)\n",
    "        else:\n",
    "            plaintext += letter\n",
    "    return plaintext\n",
    "\n",
    "# everything below i did myself, using the 'encrypt' and 'decrypt' functions from the code above that i found online\n",
    "print(\"Welcome to the Affine Cypher!\")\n",
    "\n",
    "crypt_again = True\n",
    "while True:\n",
    "    crypt_choice = int(input(\"Would you like to (1)encrypt or (2)decrypt a message?\"))\n",
    "    if crypt_choice == 1:\n",
    "        plaintext = str(input(\"Please type the message you would like encrypted:\")).upper()\n",
    "        a = int(input(\"Please choose a multiplicative value(1, 3, 5, 7, 9, 11, 15, 17, 19, 21, 23, 25):\"))\n",
    "        b = int(input(\"Please choose an additive value (1-26):\"))\n",
    "        cyphertext = encrypt(plaintext, a, b)\n",
    "        print(f\"Your encrypted message is '{cyphertext}'\")\n",
    "    elif crypt_choice == 2:\n",
    "        cyphertext = str(input(\"Please enter the message to be decrypted:\")).upper()\n",
    "        a = int(input(\"Please choose a multiplicative value(1, 3, 5, 7, 9, 11, 15, 17, 19, 21, 23, 25):\"))\n",
    "        b = int(input(\"Please choose an additive value (1-26):\"))\n",
    "        plaintext = decrypt(cyphertext, a, b)\n",
    "        print(f\"Your decrypted message is: {plaintext}\")\n",
    "\n",
    "    while True:\n",
    "        crypt_again = input(\"Would you like to encrypt or decrypt another message? (yes/no)\").lower()\n",
    "        if crypt_again != ('yes', 'no'): #\"yes\" or \"no\":\n",
    "            print(\"You didn't enter 'yes' or 'no'.  Please enter 'yes' or 'no'.\")\n",
    "        elif crypt_again == \"no\":\n",
    "            another_crypt = False\n",
    "            print(\"Thank You\")\n",
    "            break\n",
    "        else:\n",
    "            continue\n",
    "            \n",
    "\n",
    "     \n",
    "    \n",
    "\n",
    "    "
   ]
  },
  {
   "cell_type": "code",
   "execution_count": 3,
   "metadata": {},
   "outputs": [
    {
     "name": "stdout",
     "output_type": "stream",
     "text": [
      "Sorry, I didn't understand that.\n",
      "Sorry, I didn't understand that.\n",
      "Sorry, I didn't understand that.\n",
      "Sorry, I didn't understand that.\n"
     ]
    }
   ],
   "source": [
    "while True:\n",
    "    try:\n",
    "        age = int(input(\"Please enter your age: \"))\n",
    "    except ValueError:\n",
    "        print(\"Sorry, I didn't understand that.\")\n",
    "        continue\n",
    "    else:\n",
    "        break"
   ]
  },
  {
   "cell_type": "code",
   "execution_count": 11,
   "metadata": {},
   "outputs": [
    {
     "name": "stdout",
     "output_type": "stream",
     "text": [
      "Thank you for using the affine cypher.\n"
     ]
    }
   ],
   "source": [
    "crypt_again = True\n",
    "while True:\n",
    "    crypt_again = input(\"Would you like to encrypt or decrypt another message? (yes/no)\").lower()\n",
    "    try:\n",
    "        crypt_again in [\"yes\", \"no\"]\n",
    "    except ValueError:\n",
    "        print(\"You didn't enter 'yes' or 'no'.  I don't know how to make this part loop, so feel free to restart the program. lol\")\n",
    "        continue\n",
    "    if crypt_again == \"no\":\n",
    "        another_crypt = False\n",
    "        print(\"Thank you for using the affine cypher.\")\n",
    "        break\n",
    "    else:\n",
    "        crypt_again == \"yes\"\n",
    "        continue\n",
    "    #else:\n",
    "        #print(\"You didn't enter 'yes' or 'no'.  I don't know how to make this part loop, so feel free to restart the program. lol\")\n",
    "        #break\n",
    "    "
   ]
  },
  {
   "cell_type": "code",
   "execution_count": 9,
   "metadata": {},
   "outputs": [
    {
     "name": "stdout",
     "output_type": "stream",
     "text": [
      "Invalid input. Please enter a number.\n",
      "Invalid input. Please enter a number.\n",
      "Invalid input. Please enter a number.\n",
      "Invalid input. Please enter a number.\n",
      "Hey There.\n"
     ]
    }
   ],
   "source": [
    "while True:\n",
    "    crypt_again = input(\"Would you like to encrypt or decrypt another message? (yes/no)\").lower()\n",
    "    if crypt_again in [\"yes\" or \"no\"]:\n",
    "        if \"yes\":\n",
    "            print(\"Hey There.\")\n",
    "            break\n",
    "        else:\n",
    "            print(\"Age must be a positive number.\")\n",
    "    else:\n",
    "        print(\"Invalid input. Please enter a number.\")"
   ]
  },
  {
   "cell_type": "code",
   "execution_count": 6,
   "metadata": {},
   "outputs": [
    {
     "name": "stdout",
     "output_type": "stream",
     "text": [
      "Please Enter Yes or No\n",
      "Please Enter Yes or No\n",
      "Thank you for using the affine cypher.\n"
     ]
    }
   ],
   "source": [
    "while True:\n",
    "    crypt_again = input(\"Would you like to encrypt or decrypt another message? (yes/no)\").lower()\n",
    "    if crypt_again in [\"yes\", \"no\"]:\n",
    "        if crypt_again == \"no\":\n",
    "            another_crypt = False\n",
    "            print(\"Thank you for using the affine cypher.\")\n",
    "            break\n",
    "        else:\n",
    "            crypt_again == \"yes\"\n",
    "            continue\n",
    "\n",
    "    else:\n",
    "        print(\"Please Enter Yes or No\")"
   ]
  }
 ],
 "metadata": {
  "kernelspec": {
   "display_name": "Python 3",
   "language": "python",
   "name": "python3"
  },
  "language_info": {
   "codemirror_mode": {
    "name": "ipython",
    "version": 3
   },
   "file_extension": ".py",
   "mimetype": "text/x-python",
   "name": "python",
   "nbconvert_exporter": "python",
   "pygments_lexer": "ipython3",
   "version": "3.13.1"
  }
 },
 "nbformat": 4,
 "nbformat_minor": 2
}

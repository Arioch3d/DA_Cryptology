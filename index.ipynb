{
 "cells": [
  {
   "cell_type": "code",
   "execution_count": 2,
   "metadata": {},
   "outputs": [
    {
     "name": "stdout",
     "output_type": "stream",
     "text": [
      "l not found in list\n"
     ]
    }
   ],
   "source": [
    "mylist = ['A','B','C','D','E','F','G','H','I','J','K','L','M','N','O','P','Q','R','S','T','U','V','W','X','Y','Z']\n",
    "user_input = input(\"Enter letter to search for: \")\n",
    "if user_input in mylist:\n",
    "    print(f\"{user_input} found in list.\")\n",
    "else:\n",
    "    print(f\"{user_input} not found in list\")"
   ]
  },
  {
   "cell_type": "code",
   "execution_count": 30,
   "metadata": {},
   "outputs": [
    {
     "name": "stdout",
     "output_type": "stream",
     "text": [
      "JMMb\u0005FcXb\u0013[F!\n",
      "abcdefg\n"
     ]
    }
   ],
   "source": [
    "class Affine(object):\n",
    "   DIE = 128\n",
    "   KEY = (7, 3, 55)\n",
    "   def __init__(self):\n",
    "      pass\n",
    "   def encryptChar(self, char):\n",
    "      K1, K2, kI = self.KEY\n",
    "      return chr((K1 * ord(char) + K2) % self.DIE)\n",
    "         \n",
    "   def encrypt(self, string):\n",
    "      return \"\".join(map(self.encryptChar, string))\n",
    "      \n",
    "   def decryptChar(self, char):\n",
    "      K1, K2, KI = self.KEY\n",
    "      return chr(KI * (ord(char) - K2) % self.DIE)\n",
    "      \n",
    "   def decrypt(self, string):\n",
    "      return \"\".join(map(self.decryptChar, string))\n",
    "affine = Affine()\n",
    "print (affine.encrypt('Affine Cipher'))\n",
    "print (affine.decrypt('*18?FMT'))"
   ]
  }
 ],
 "metadata": {
  "kernelspec": {
   "display_name": "Python 3",
   "language": "python",
   "name": "python3"
  },
  "language_info": {
   "codemirror_mode": {
    "name": "ipython",
    "version": 3
   },
   "file_extension": ".py",
   "mimetype": "text/x-python",
   "name": "python",
   "nbconvert_exporter": "python",
   "pygments_lexer": "ipython3",
   "version": "3.13.1"
  }
 },
 "nbformat": 4,
 "nbformat_minor": 2
}

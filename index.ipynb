{
 "cells": [
  {
   "cell_type": "code",
   "execution_count": 2,
   "metadata": {},
   "outputs": [
    {
     "name": "stdout",
     "output_type": "stream",
     "text": [
      "l not found in list\n"
     ]
    }
   ],
   "source": [
    "mylist = ['A','B','C','D','E','F','G','H','I','J','K','L','M','N','O','P','Q','R','S','T','U','V','W','X','Y','Z']\n",
    "user_input = input(\"Enter letter to search for: \")\n",
    "if user_input in mylist:\n",
    "    print(f\"{user_input} found in list.\")\n",
    "else:\n",
    "    print(f\"{user_input} not found in list\")"
   ]
  },
  {
   "cell_type": "code",
   "execution_count": 38,
   "metadata": {},
   "outputs": [
    {
     "name": "stdout",
     "output_type": "stream",
     "text": [
      "{'a': 0, 'b': 1, 'c': 2, 'd': 3, 'e': 4, 'f': 5, 'g': 6, 'h': 7, 'i': 8, 'j': 9, 'k': 10, 'l': 11, 'm': 12, 'n': 13, 'o': 14, 'p': 15, 'q': 16, 'r': 17, 's': 18, 't': 19, 'u': 20, 'v': 21, 'w': 22, 'x': 23, 'y': 24, 'z': 25}\n",
      "{0: 'a', 1: 'b', 2: 'c', 3: 'd', 4: 'e', 5: 'f', 6: 'g', 7: 'h', 8: 'i', 9: 'j', 10: 'k', 11: 'l', 12: 'm', 13: 'n', 14: 'o', 15: 'p', 16: 'q', 17: 'r', 18: 's', 19: 't', 20: 'u', 21: 'v', 22: 'w', 23: 'x', 24: 'y', 25: 'z'}\n"
     ]
    }
   ],
   "source": [
    "English_Alphabet_Map = {chr(i):i-97 for i in range(97,97+26)}\n",
    "English_Alphabet_Map_Reverse = {i-97:chr(i) for i in range(97,97+26)}\n",
    "#key = [5, 18]\n",
    "#a,b = key\n",
    "#Cypher_Text = [a*i+b for i in English_Alphabet_Map]\n",
    "#Cypher_Text\n",
    "print(English_Alphabet_Map)\n",
    "print(English_Alphabet_Map_Reverse)"
   ]
  },
  {
   "cell_type": "code",
   "execution_count": null,
   "metadata": {},
   "outputs": [
    {
     "ename": "ValueError",
     "evalue": "base is not invertible for the given modulus",
     "output_type": "error",
     "traceback": [
      "\u001b[31m---------------------------------------------------------------------------\u001b[39m",
      "\u001b[31mValueError\u001b[39m                                Traceback (most recent call last)",
      "\u001b[36mCell\u001b[39m\u001b[36m \u001b[39m\u001b[32mIn[61]\u001b[39m\u001b[32m, line 37\u001b[39m\n\u001b[32m     33\u001b[39m     \u001b[38;5;28;01mreturn\u001b[39;00m plaintext, user_input_additive_inverse\n\u001b[32m     34\u001b[39m     \u001b[38;5;28mprint\u001b[39m(text, user_input_additive, user_input_multiplicative)\n\u001b[32m---> \u001b[39m\u001b[32m37\u001b[39m decrypted_input = \u001b[43maffine_decrypt\u001b[49m\u001b[43m(\u001b[49m\u001b[43muser_input_text\u001b[49m\u001b[43m,\u001b[49m\u001b[43m \u001b[49m\u001b[43muser_input_additive\u001b[49m\u001b[43m,\u001b[49m\u001b[43m \u001b[49m\u001b[43muser_input_multiplicative\u001b[49m\u001b[43m)\u001b[49m\n\u001b[32m     38\u001b[39m \u001b[38;5;66;03m#affine_decrypt(my_dict_reverse, user_input_additive, user_input_multiplicative)\u001b[39;00m\n\u001b[32m     39\u001b[39m \u001b[38;5;66;03m#print ({affine_decrypt})\u001b[39;00m\n\u001b[32m     40\u001b[39m \u001b[38;5;28mprint\u001b[39m(\u001b[33m\"\u001b[39m\u001b[33mEntered String to Decrypt: \u001b[39m\u001b[33m\"\u001b[39m, user_input_text)\n",
      "\u001b[36mCell\u001b[39m\u001b[36m \u001b[39m\u001b[32mIn[61]\u001b[39m\u001b[32m, line 20\u001b[39m, in \u001b[36maffine_decrypt\u001b[39m\u001b[34m(my_dict_reverse, user_input_additive, user_input_multiplicative)\u001b[39m\n\u001b[32m     17\u001b[39m plaintext = {user_input_text}\n\u001b[32m     19\u001b[39m text = user_input_text\n\u001b[32m---> \u001b[39m\u001b[32m20\u001b[39m user_input_additive_inverse = \u001b[38;5;28;43mpow\u001b[39;49m\u001b[43m(\u001b[49m\u001b[43muser_input_additive\u001b[49m\u001b[43m,\u001b[49m\u001b[43m \u001b[49m\u001b[43m-\u001b[49m\u001b[32;43m1\u001b[39;49m\u001b[43m,\u001b[49m\u001b[43m \u001b[49m\u001b[32;43m26\u001b[39;49m\u001b[43m)\u001b[49m\n\u001b[32m     21\u001b[39m \u001b[38;5;28;01mfor\u001b[39;00m char \u001b[38;5;129;01min\u001b[39;00m text:\n\u001b[32m     22\u001b[39m     \u001b[38;5;28;01mif\u001b[39;00m char.isalpha:\n",
      "\u001b[31mValueError\u001b[39m: base is not invertible for the given modulus"
     ]
    }
   ],
   "source": [
    "my_dict = {'a': 0, 'b': 1, 'c': 2, 'd': 3, 'e': 4, 'f': 5, 'g': 6, 'h': 7, 'i': 8, 'j': 9, 'k': 10, 'l': 11, 'm': 12, 'n': 13, 'o': 14, 'p': 15, 'q': 16, 'r': 17, 's': 18, 't': 19, 'u': 20, 'v': 21, 'w': 22, 'x': 23, 'y': 24, 'z': 25}\n",
    "my_dict_reverse = {0: 'a', 1: 'b', 2: 'c', 3: 'd', 4: 'e', 5: 'f', 6: 'g', 7: 'h', 8: 'i', 9: 'j', 10: 'k', 11: 'l', 12: 'm', 13: 'n', 14: 'o', 15: 'p', 16: 'q', 17: 'r', 18: 's', 19: 't', 20: 'u', 21: 'v', 22: 'w', 23: 'x', 24: 'y', 25: 'z'}\n",
    "#user_input_multiplicative = input(\"Enter value to multiply the Cypher: \")\n",
    "#user_input_additive = input(\"Enter value to Shiftto Cypher: \")\n",
    "#user_input_text = (input(\"Enter String to Decrypt\" )).lower()\n",
    "\n",
    "#print(user_input_multiplicative, user_input_additive, user_input_text)\n",
    "#user_input_text.lower()\n",
    "\n",
    "user_input_text = (input(\"Enter String to Decrypt\" )).lower()\n",
    "user_input_multiplicative = input(\"Enter value to multiply the Cypher: \")\n",
    "user_input_additive = input(\"Enter value to Shift to Cypher: \")\n",
    "user_input_additive = int(user_input_additive)\n",
    "user_input_multiplicative = int(user_input_multiplicative)\n",
    "\n",
    "def affine_decrypt(my_dict_reverse, user_input_additive, user_input_multiplicative):\n",
    "    plaintext = \"\"\n",
    "    \n",
    "    text = user_input_text\n",
    "    user_input_additive_inverse = pow(user_input_additive, -1, 26)\n",
    "    for char in text:\n",
    "        if char.isalpha:\n",
    "                order = ord(char)\n",
    "            #if char.isalpha():\n",
    "                order = order - 97\n",
    "                order = ((order - user_input_additive_inverse) * user_input_multiplicative) % 26\n",
    "                order = order + 97\n",
    "                new_char = chr(order)\n",
    "                plaintext = plaintext + new_char\n",
    "        else:\n",
    "            plaintext = plaintext + new_char\n",
    "\n",
    "    return plaintext, user_input_additive_inverse\n",
    "    print(text, user_input_additive, user_input_multiplicative)\n",
    "\n",
    "\n",
    "decrypted_input = affine_decrypt(user_input_text, user_input_additive, user_input_multiplicative)\n",
    "#affine_decrypt(my_dict_reverse, user_input_additive, user_input_multiplicative)\n",
    "#print ({affine_decrypt})\n",
    "print(\"Entered String to Decrypt: \", user_input_text)\n",
    "print(\"Entered Shift Key: \", user_input_additive)\n",
    "print(\"Entered Multiplicative Key: \", user_input_multiplicative)\n",
    "print(\"Decrypted Text: \", decrypted_input)"
   ]
  },
  {
   "cell_type": "code",
   "execution_count": 102,
   "metadata": {},
   "outputs": [
    {
     "name": "stdout",
     "output_type": "stream",
     "text": [
      "['n', 'i', 'c', 'e', 't', 'o', 'm', 'e', 'e', 't', 'y', 'o', 'u']\n",
      "[13, 8, 2, 4, 19, 14, 12, 4, 4, 19, 24, 14, 20]\n",
      "[0, 1, 23, 7, 4, 5, 21, 7, 7, 4, 3, 5, 9]\n",
      "['a', 'b', 'x', 'h', 'e', 'f', 'v', 'h', 'h', 'e', 'd', 'f', 'j']\n",
      "[13, 8, 2, 4, 19, 14, 12, 4, 4, 19, 24, 14, 20]\n",
      "['n', 'i', 'c', 'e', 't', 'o', 'm', 'e', 'e', 't', 'y', 'o', 'u']\n"
     ]
    },
    {
     "data": {
      "text/plain": [
       "'nicetomeetyou'"
      ]
     },
     "execution_count": 102,
     "metadata": {},
     "output_type": "execute_result"
    }
   ],
   "source": [
    "#PlainText = user_input_text = (input(\"Enter String to Decrypt\" )).lower()\n",
    "PlainText = \"nicetomeetyou\"\n",
    "EnglishAlphabetMap = {chr(i):i-97 for i in range(97, 97+26)}\n",
    "EnglishAlphabetMap_Reverse = {i-97:chr(i) for i in range(97, 97+26)}\n",
    "key == [5, 13]\n",
    "user_input_multiplicative = input(\"Enter value to multiply the Cypher: \")\n",
    "user_input_additive = input(\"Enter value to Shift to Cypher: \")\n",
    "\n",
    "user_input_additive = int(user_input_additive)\n",
    "user_input_multiplicative = int(user_input_multiplicative)\n",
    "PlainText_Numbers = [EnglishAlphabetMap[i] for i in PlainText]\n",
    "a = user_input_multiplicative\n",
    "b = user_input_additive\n",
    "#a, b = key\n",
    "CipherText_Numbers = [(a*i+b) % 26 for i in PlainText_Numbers]\n",
    "#print([i for i in PT])\n",
    "CipherText = [EnglishAlphabetMap_Reverse[i] for i in CipherText_Numbers]\n",
    "''.join(CT)\n",
    "#Decrypt\n",
    "CipherText_Numbers = [EnglishAlphabetMap[i] for i in CipherText]\n",
    "a_inverse = pow(a, -1, 26)\n",
    "PlainText_Numbers = [a_inverse * (i-b) % 26 for i in CipherText_Numbers]\n",
    "PlainText = [EnglishAlphabetMap_Reverse[i] for i in PlainText_Numbers]\n",
    "#print(EnglishAlphabetMap)\n",
    "#print(EnglishAlphabetMap_Reverse)\n",
    "print(PlainText)\n",
    "print(PlainText_Numbers)\n",
    "print(CipherText_Numbers)\n",
    "print(CipherText)\n",
    "#print(pow)\n",
    "print(PlainText_Numbers)\n",
    "print(PlainText)\n",
    "''.join(PlainText)"
   ]
  }
 ],
 "metadata": {
  "kernelspec": {
   "display_name": "Python 3",
   "language": "python",
   "name": "python3"
  },
  "language_info": {
   "codemirror_mode": {
    "name": "ipython",
    "version": 3
   },
   "file_extension": ".py",
   "mimetype": "text/x-python",
   "name": "python",
   "nbconvert_exporter": "python",
   "pygments_lexer": "ipython3",
   "version": "3.13.1"
  }
 },
 "nbformat": 4,
 "nbformat_minor": 2
}
